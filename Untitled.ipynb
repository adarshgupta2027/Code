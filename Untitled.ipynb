{
  "nbformat": 4,
  "nbformat_minor": 0,
  "metadata": {
    "colab": {
      "provenance": [],
      "authorship_tag": "ABX9TyNMgTpiOcfN/kMV38tXVQZF",
      "include_colab_link": true
    },
    "kernelspec": {
      "name": "python3",
      "display_name": "Python 3"
    },
    "language_info": {
      "name": "python"
    }
  },
  "cells": [
    {
      "cell_type": "markdown",
      "metadata": {
        "id": "view-in-github",
        "colab_type": "text"
      },
      "source": [
        "<a href=\"https://colab.research.google.com/github/adarshgupta2027/Code/blob/main/Untitled.ipynb\" target=\"_parent\"><img src=\"https://colab.research.google.com/assets/colab-badge.svg\" alt=\"Open In Colab\"/></a>"
      ]
    },
    {
      "cell_type": "code",
      "execution_count": null,
      "metadata": {
        "id": "d1MHeoC0SQhc",
        "outputId": "faa401ac-d325-43d1-8a5e-41e90f6c8939",
        "colab": {
          "base_uri": "https://localhost:8080/"
        }
      },
      "outputs": [
        {
          "output_type": "stream",
          "name": "stdout",
          "text": [
            "Enter number30\n",
            "You are eligible for DL\n"
          ]
        }
      ],
      "source": [
        "a = 18\n",
        "b = int(input(\"Enter number\"))\n",
        "if a<b:\n",
        "      print(\"You are eligible for DL\")\n",
        "else:\n",
        "     print(\"You are not eligible DL\")"
      ]
    }
  ]
}